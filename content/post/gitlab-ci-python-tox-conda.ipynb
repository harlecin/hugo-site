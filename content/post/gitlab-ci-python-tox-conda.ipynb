{
 "metadata": {
  "language_info": {
   "codemirror_mode": {
    "name": "ipython",
    "version": 3
   },
   "file_extension": ".py",
   "mimetype": "text/x-python",
   "name": "python",
   "nbconvert_exporter": "python",
   "pygments_lexer": "ipython3",
   "version": 3
  },
  "orig_nbformat": 2
 },
 "nbformat": 4,
 "nbformat_minor": 2,
 "cells": [
  {
   "source": [
    "# Python Development with Gitlab CI and Tox\n",
    "\n",
    "In this post I want to give a brief overview how to structure a Python package, setup continuous integration with Gitlab and `tox-conda` for data science projects that I found quite nice to work with.\n",
    "\n",
    "Most data scientists coming from R will probably ask themselves:\n",
    "\n",
    "> What is *the* way to structure a Python package?\n",
    "\n",
    "While in R there is only one (admittedly sometimes limiting) way to structure a package, you have got quite a lot of options with in the Python world.\n",
    "\n",
    "Since data science workloads rely heavily on the `conda` packaging ecosystem (especially on Windows machines), I will focus on how to make everything play nicely with `conda`.\n",
    "\n",
    "## Setup a conda environment\n",
    "\n",
    "We begin setup by creating a new conda environment and specifying the interpreter we want to use and activating it:\n",
    "```\n",
    "conda create --name <environment_name> python=3.8 -y\n",
    "conda activate <environment_name>\n",
    "```\n",
    "\n",
    "Now we need to setup our package structure. In R there is a function called `package.skeleton()` (or alternatively RStudio's GUI) that create a basic package with all necessary files. For Python there are different packages that provide similar functionality (such as `cookie-cutter`), but I will quickly outline a minimal setup here:\n",
    "\n",
    "```\n",
    "src/\n",
    "    package_name/\n",
    "        __init__.py\n",
    "        python_file1.py\n",
    "        ...\n",
    "        python_fileN.py\n",
    "tests/\n",
    "notebooks/\n",
    "outputs/\n",
    "setup.py\n",
    "gitlab-ci.yml\n",
    "tox.ini\n",
    "config.yml\n",
    "CHANGELOG.md\n",
    "README.md\n",
    ".gitignore\n",
    ".env\n",
    "```\n"
   ],
   "cell_type": "markdown",
   "metadata": {}
  },
  {
   "source": [
    "You can download a zip file containing a sample project from [here].\n",
    "\n",
    "Let's take a quick look at the content of:\n",
    "\n",
    "- setup.py\n",
    "- gitlab-ci.yml"
   ],
   "cell_type": "markdown",
   "metadata": {}
  },
  {
   "source": [
    "Don't forget to exclude your `.env` file from version control by putting it in `.gitignore` in case you have any api tokens or similar in your environment file.\n",
    "\n",
    "You can specify environment variables in Gitlab to be used by your pipelines where you can mask them in log outputs."
   ],
   "cell_type": "markdown",
   "metadata": {}
  },
  {
   "source": [
    "For development, I install the package with `pip install -e .` and include the following code in my Jupyter notebook to reload the package after an update:\n",
    "\n",
    "```\n",
    "# Load autoreload module \n",
    "# autoreload 1: reload modules imported with %aimport everytime before execution\n",
    "# autoreload 2: reload all modules\n",
    "%load_ext autoreload\n",
    "%autoreload 2\n",
    "%matplotlib inline\n",
    "%load_ext dotenv\n",
    "\n",
    "dotenv -o \"../.env\"\n",
    "```"
   ],
   "cell_type": "markdown",
   "metadata": {}
  },
  {
   "source": [
    "explain reason for src/package_name structure\n",
    "setup jupyter kernel\n",
    "talk about setup.py ssh install\n",
    "tox-conda"
   ],
   "cell_type": "markdown",
   "metadata": {}
  },
  {
   "source": [
    "## Create draft template to download to automate setup process"
   ],
   "cell_type": "markdown",
   "metadata": {}
  },
  {
   "cell_type": "code",
   "execution_count": null,
   "metadata": {},
   "outputs": [],
   "source": []
  }
 ]
}