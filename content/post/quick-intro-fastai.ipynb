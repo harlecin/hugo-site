{
 "cells": [
  {
   "cell_type": "markdown",
   "metadata": {},
   "source": [
    "# Quick Overview of Fast.ai\n",
    "\n",
    "[Fast.ai](https://www.fast.ai/) is a high-level API build on-top of the popular [PyTorch](https://pytorch.org/) deep learning framework. Fast.ai is developed by Jeremy Howard and his team with the motto:\n",
    "\n",
    "> fast.ai - Making neural nets uncool again\n",
    "\n",
    "Apart from the fact that I really like this motto, I also like that fast.ai allows you to start with their pre-made deep learning models for different domains such as vision, text and tabular data and also develop your own PyTorch model and use it within the fast.ai framework.\n",
    "\n",
    "So, without further ado, let's take a look at the functionality fast.ai has to offer. To get, started, I recommend to create a new conda environment first and install everything using:\n",
    "\n",
    "```\n",
    "conda install -c pytorch -c fastai fastai\n",
    "```\n",
    "\n",
    "**Attention:** \n",
    "\n",
    "By default, fast.ai will install PyTorch with the latest cudatoolkit (at the time of this writing 10.2), so make sure your graphics card is compatible and has the latest cudatoolkit installed. If your graphics card is NOT compatible with the latest cudatoolkit, you have to install PyTorch manually (just visit pytorch.org for instructions). This worked really well for me a few months ago, but when I tried it again yesterday, the fast.ai package installation process was bricked, because of some dependency issue. I upgraded to cudatoolkit 10.2 and did a new install and everything worked without problems. The fast.ai Github repo says that Windows support is currently at an experimental stage, so I think you will have the best chance to have everything working smoothly if you use the latest versions of all packages available."
   ]
  },
  {
   "cell_type": "code",
   "execution_count": 5,
   "metadata": {},
   "outputs": [],
   "source": [
    "import pandas as pd\n",
    "from fastai.tabular import *"
   ]
  },
  {
   "cell_type": "markdown",
   "metadata": {},
   "source": [
    "- 1cycle: first find learning rate -> plug into 1cycle\n",
    "- fp16\n",
    "- recording results (Recorder)\n",
    "- embeddings"
   ]
  }
 ],
 "metadata": {
  "language_info": {
   "codemirror_mode": {
    "name": "ipython",
    "version": 3
   },
   "file_extension": ".py",
   "mimetype": "text/x-python",
   "name": "python",
   "nbconvert_exporter": "python",
   "pygments_lexer": "ipython3",
   "version": "3.7.7-final"
  },
  "orig_nbformat": 2,
  "kernelspec": {
   "name": "pytorch",
   "display_name": "Python (pytorch)"
  }
 },
 "nbformat": 4,
 "nbformat_minor": 2
}