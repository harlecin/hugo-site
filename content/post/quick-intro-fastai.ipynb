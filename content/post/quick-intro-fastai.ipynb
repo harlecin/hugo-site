{
 "cells": [
  {
   "cell_type": "markdown",
   "metadata": {},
   "source": [
    "# Quick Overview of Fast.ai\n",
    "\n",
    "[Fast.ai](https://www.fast.ai/) is a high-level API build on-top of the popular [PyTorch](https://pytorch.org/) deep learning framework. Fast.ai is developed by Jeremy Howard and his team with the motto:\n",
    "\n",
    "> fast.ai - Making neural nets uncool again\n",
    "\n",
    "Apart from the fact that I really like this motto, I also like that fast.ai allows you to start with their pre-made deep learning models for different domains such as vision, text and tabular data and also develop your own PyTorch model and use it within the fast.ai framework.\n",
    "\n",
    "So, without further ado, let's take a look at the functionality fast.ai has to offer. To get, started, I recommend to create a new conda environment first and install everything using:\n",
    "\n",
    "```\n",
    "conda install -c pytorch -c fastai fastai\n",
    "```\n",
    "\n",
    "If you have a CUDA capable gpu, the following should return True:"
   ]
  },
  {
   "cell_type": "code",
   "execution_count": 2,
   "metadata": {},
   "outputs": [
    {
     "output_type": "execute_result",
     "data": {
      "text/plain": "True"
     },
     "metadata": {},
     "execution_count": 2
    }
   ],
   "source": [
    "import torch\n",
    "torch.cuda.is_available()"
   ]
  },
  {
   "cell_type": "markdown",
   "metadata": {},
   "source": [
    "I had a problem with Nvidia Management Library (NVML) on Windows. Fast.ai installs `pynvml` but on Windows Nvidia does not appear to include `nvml.dll` at the location `pynvml` is looking for it. The fix is quite easy:\n",
    "\n",
    "1. Run `where nvidia-smi` in CMD and you will find `nvml.dll` in the same folder\n",
    "2. Create a folder called NVSMI in 'C:\\Program Files\\NVIDIA Corporation'  and copy nvml.dll to this folder\n",
    "\n",
    "Now the following code should work:\n"
   ]
  },
  {
   "cell_type": "code",
   "execution_count": 1,
   "metadata": {},
   "outputs": [
    {
     "output_type": "stream",
     "name": "stdout",
     "text": "Total memory: 6442450944\nFree memory: 3874504704\nUsed memory: 2567946240\n"
    }
   ],
   "source": [
    "from pynvml import *\n",
    "nvmlInit()\n",
    "handle = nvmlDeviceGetHandleByIndex(0)\n",
    "info = nvmlDeviceGetMemoryInfo(handle)\n",
    "print(\"Total memory:\", info.total)\n",
    "print(\"Free memory:\", info.free)\n",
    "print(\"Used memory:\", info.used)"
   ]
  },
  {
   "cell_type": "markdown",
   "metadata": {},
   "source": [
    "**Attention:** \n",
    "\n",
    "By default, fast.ai will install PyTorch with the latest cudatoolkit (at the time of this writing 10.2), so make sure your graphics card is compatible and has the latest cudatoolkit installed. If your graphics card is NOT compatible with the latest cudatoolkit, you have to install PyTorch manually (just visit pytorch.org for instructions). This worked really well for me a few months ago, but when I tried it again yesterday, the fast.ai package installation process was bricked, because of some dependency issue. I upgraded to cudatoolkit 10.2 and did a new install and everything worked without problems. The fast.ai Github repo says that Windows support is currently at an experimental stage, so I think you will have the best chance to have everything working smoothly if you use the latest versions of all packages available.\n",
    "\n",
    "I will use the Rossmann Store Sales data"
   ]
  },
  {
   "cell_type": "code",
   "execution_count": 6,
   "metadata": {},
   "outputs": [],
   "source": [
    "import pandas as pd\n",
    "from fastai.tabular import *"
   ]
  },
  {
   "cell_type": "markdown",
   "metadata": {},
   "source": [
    "- 1cycle: first find learning rate -> plug into 1cycle\n",
    "- interpretation: loss vs metric -> loss = mse for regression always in fast.ai lib? see loss_func\n",
    "- fp16\n",
    "- recording results (Recorder)\n",
    "- embeddings: get weights to use them in a different model\n",
    "- using tensorboard"
   ]
  },
  {
   "cell_type": "code",
   "execution_count": 3,
   "metadata": {},
   "outputs": [
    {
     "output_type": "error",
     "ename": "NameError",
     "evalue": "name 'FillMissing' is not defined",
     "traceback": [
      "\u001b[1;31m---------------------------------------------------------------------------\u001b[0m",
      "\u001b[1;31mNameError\u001b[0m                                 Traceback (most recent call last)",
      "\u001b[1;32m<ipython-input-3-7a78a86e746f>\u001b[0m in \u001b[0;36m<module>\u001b[1;34m\u001b[0m\n\u001b[1;32m----> 1\u001b[1;33m \u001b[0mprocs\u001b[0m \u001b[1;33m=\u001b[0m \u001b[1;33m[\u001b[0m\u001b[0mFillMissing\u001b[0m\u001b[1;33m,\u001b[0m \u001b[0mCategorify\u001b[0m\u001b[1;33m,\u001b[0m \u001b[0mNormalize\u001b[0m\u001b[1;33m]\u001b[0m\u001b[1;33m\u001b[0m\u001b[1;33m\u001b[0m\u001b[0m\n\u001b[0m\u001b[0;32m      2\u001b[0m \u001b[1;33m\u001b[0m\u001b[0m\n\u001b[0;32m      3\u001b[0m \u001b[0mvalid_idx\u001b[0m \u001b[1;33m=\u001b[0m \u001b[0mrange\u001b[0m\u001b[1;33m(\u001b[0m\u001b[0mlen\u001b[0m\u001b[1;33m(\u001b[0m\u001b[0mdf\u001b[0m\u001b[1;33m)\u001b[0m\u001b[1;33m-\u001b[0m\u001b[1;36m2000\u001b[0m\u001b[1;33m,\u001b[0m \u001b[0mlen\u001b[0m\u001b[1;33m(\u001b[0m\u001b[0mdf\u001b[0m\u001b[1;33m)\u001b[0m\u001b[1;33m)\u001b[0m\u001b[1;33m\u001b[0m\u001b[1;33m\u001b[0m\u001b[0m\n\u001b[0;32m      4\u001b[0m \u001b[1;33m\u001b[0m\u001b[0m\n\u001b[0;32m      5\u001b[0m \u001b[0mdep_var\u001b[0m \u001b[1;33m=\u001b[0m \u001b[1;34m'salary'\u001b[0m\u001b[1;33m\u001b[0m\u001b[1;33m\u001b[0m\u001b[0m\n",
      "\u001b[1;31mNameError\u001b[0m: name 'FillMissing' is not defined"
     ]
    }
   ],
   "source": [
    "procs = [FillMissing, Categorify, Normalize]\n",
    "\n",
    "valid_idx = range(len(df)-2000, len(df))\n",
    "\n",
    "dep_var = 'salary'\n",
    "cat_names = ['workclass', 'education', 'marital-status', 'occupation', 'relationship', 'race', 'sex', 'native-country']\n",
    "cont_names = []"
   ]
  },
  {
   "cell_type": "code",
   "execution_count": null,
   "metadata": {},
   "outputs": [],
   "source": [
    "data = TabularDataBunch.from_df(path, df, dep_var, valid_idx=valid_idx, procs=procs, cat_names=cat_names)\n",
    "\n",
    "\n",
    "learn = tabular_learner(data, layers=[200,100], emb_szs={'native-country': 10}, metrics=accuracy)\n",
    "learn.fit_one_cycle(1, 1e-2)"
   ]
  },
  {
   "cell_type": "markdown",
   "metadata": {},
   "source": [
    "# Notes:\n",
    "- ERROR: fastai 1.0.61 requires nvidia-ml-py3, which is not installed"
   ]
  }
 ],
 "metadata": {
  "language_info": {
   "codemirror_mode": {
    "name": "ipython",
    "version": 3
   },
   "file_extension": ".py",
   "mimetype": "text/x-python",
   "name": "python",
   "nbconvert_exporter": "python",
   "pygments_lexer": "ipython3",
   "version": "3.7.7-final"
  },
  "orig_nbformat": 2,
  "kernelspec": {
   "name": "pytorch",
   "display_name": "Python (PyTorch)"
  }
 },
 "nbformat": 4,
 "nbformat_minor": 2
}